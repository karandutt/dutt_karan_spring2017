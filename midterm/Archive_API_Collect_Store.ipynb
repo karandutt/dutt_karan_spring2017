{
 "cells": [
  {
   "cell_type": "code",
   "execution_count": 7,
   "metadata": {
    "collapsed": false
   },
   "outputs": [],
   "source": [
    "import os\n",
    "import json\n",
    "import csv\n",
    "nyt_key = '7cef684da20b471faf5c47266f122516'"
   ]
  },
  {
   "cell_type": "code",
   "execution_count": 8,
   "metadata": {
    "collapsed": false
   },
   "outputs": [
    {
     "name": "stdout",
     "output_type": "stream",
     "text": [
      "Current working directory : /Users/karandutt/dutt_karan_spring2017\n"
     ]
    }
   ],
   "source": [
    "#os.getcwd method returns the current working directory \n",
    "cwd = os.path.dirname(os.getcwd()) \n",
    "print(\"Current working directory : %s\" % os.getcwd())"
   ]
  },
  {
   "cell_type": "code",
   "execution_count": 18,
   "metadata": {
    "collapsed": false
   },
   "outputs": [
    {
     "name": "stdout",
     "output_type": "stream",
     "text": [
      "Current path : /Users/karandutt/dutt_karan_spring2017/nyt_data/\n"
     ]
    }
   ],
   "source": [
    "cp = cwd + '/dutt_karan_spring2017/nyt_data/'\n",
    "print(\"Current path : %s\" % cp)"
   ]
  },
  {
   "cell_type": "code",
   "execution_count": 15,
   "metadata": {
    "collapsed": true
   },
   "outputs": [],
   "source": [
    "#make a new directory inside the nyt_data directory \n",
    "dir_path ='Archive' \n",
    "os.makedirs(dir_path, exist_ok=True)"
   ]
  },
  {
   "cell_type": "markdown",
   "metadata": {},
   "source": [
    "# Archive API Collect & Store\n",
    "- 2012-2016 Archive API Data "
   ]
  },
  {
   "cell_type": "code",
   "execution_count": 17,
   "metadata": {
    "collapsed": false
   },
   "outputs": [
    {
     "name": "stdout",
     "output_type": "stream",
     "text": [
      "2012 Jan\n",
      "2012 Feb\n",
      "2012 Mar\n",
      "2012 Apr\n",
      "2012 May\n",
      "2012 Jun\n",
      "2012 Jul\n",
      "2012 Aug\n",
      "2012 Sep\n",
      "2012 Oct\n",
      "2012 Nov\n",
      "2012 Dec\n",
      "2013 Jan\n",
      "2013 Feb\n",
      "2013 Mar\n",
      "2013 Apr\n",
      "2013 May\n",
      "2013 Jun\n",
      "2013 Jul\n",
      "2013 Aug\n",
      "2013 Sep\n",
      "2013 Oct\n",
      "2013 Nov\n",
      "2013 Dec\n",
      "2014 Jan\n",
      "2014 Feb\n",
      "2014 Mar\n",
      "2014 Apr\n",
      "2014 May\n",
      "2014 Jun\n",
      "2014 Jul\n",
      "2014 Aug\n",
      "2014 Sep\n",
      "2014 Oct\n",
      "2014 Nov\n",
      "2014 Dec\n",
      "2015 Jan\n",
      "2015 Feb\n",
      "2015 Mar\n",
      "2015 Apr\n",
      "2015 May\n",
      "2015 Jun\n",
      "2015 Jul\n",
      "2015 Aug\n",
      "2015 Sep\n",
      "2015 Oct\n",
      "2015 Nov\n",
      "2015 Dec\n",
      "2016 Jan\n",
      "2016 Feb\n",
      "2016 Mar\n",
      "2016 Apr\n",
      "2016 May\n",
      "2016 Jun\n",
      "2016 Jul\n",
      "2016 Aug\n",
      "2016 Sep\n",
      "2016 Oct\n",
      "2016 Nov\n",
      "2016 Dec\n"
     ]
    }
   ],
   "source": [
    "#do all the imports\n",
    "import requests\n",
    "import re\n",
    "import datetime\n",
    "import shutil\n",
    "for y in range(2012,2017): #y meaning the year between 2012 and 2016\n",
    "    for m in range(1,13):  #m meaning month from the 1st to the 12th month\n",
    "        \n",
    "        #get the url\n",
    "        url = ('http://api.nytimes.com/svc/archive/v1/'+str(y)+'/'+str(m)+'.json?api-key='+ nyt_key)\n",
    "        get_request = requests.get(url)\n",
    "        article = json.loads(get_request.text)\n",
    "        for i in range(0,5000):\n",
    "            try:\n",
    "                \n",
    "                t = article['response']['docs'][i]['pub_date']\n",
    "                match = re.search(r'\\d{4}-\\d{2}-\\d{2}', t)\n",
    "                date = datetime.datetime.strptime(match.group(), '%Y-%m-%d').date()\n",
    "    \n",
    "                year_path = os.path.join(dir_path, str(date.year))   \n",
    "                os.makedirs(year_path,exist_ok=True)\n",
    "                month_path = os.path.join(year_path, date.strftime(\"%b\"))\n",
    "                os.makedirs(month_path, exist_ok=True)\n",
    "            except IndexError:\n",
    "                pass                                                  \n",
    "            with open(article['response']['docs'][i]['_id'],'w')as outfile:\n",
    "                json.dump(article['response']['docs'][i],outfile)\n",
    "        \n",
    "        for files in os.listdir('./'):\n",
    "            if files.endswith('.ipynb'):\n",
    "                print(date.year,date.strftime(\"%b\"))                                                      \n",
    "            else:\n",
    "                \n",
    "                try:\n",
    "                    shutil.move(os.path.join('./',files),os.path.join(month_path,files+'.json'))\n",
    "                except OSError:\n",
    "                    pass"
   ]
  },
  {
   "cell_type": "code",
   "execution_count": 29,
   "metadata": {
    "collapsed": false
   },
   "outputs": [],
   "source": [
    "response_data = []\n",
    "archive_path = '/Users/karandutt/nyt_data/archive'\n",
    "for json_file in response_data:\n",
    "    for json_list in json_file['response']['docs']:\n",
    "        with open(archive_path + 'archive_'+ str(datetime.now()) +'.json', 'w') as outfile:\n",
    "            json.dump(json_list, outfile)"
   ]
  },
  {
   "cell_type": "code",
   "execution_count": 30,
   "metadata": {
    "collapsed": true
   },
   "outputs": [],
   "source": [
    "import glob\n",
    "json_file_path = archive_path +'/*'\n",
    "lambda_file = lambda json_file_path : glob.glob(json_file_path)"
   ]
  },
  {
   "cell_type": "code",
   "execution_count": 31,
   "metadata": {
    "collapsed": false
   },
   "outputs": [
    {
     "name": "stdout",
     "output_type": "stream",
     "text": [
      "{'subsection_name': None, 'news_desk': 'Travel', 'lead_paragraph': 'Bookstores, theaters, cafes and concerts — a guide to following in the Manhattan footsteps of the late David Bowie (songs included).', 'section_name': 'Travel', 'snippet': 'Bookstores, theaters, cafes and concerts — a guide to following in the Manhattan footsteps of the late David Bowie (songs included).', '_id': '569e884a38f0d85519ba79d2', 'headline': {'print_headline': 'David Bowie’s New York', 'content_kicker': 'Where to Go Now', 'main': '8 Ways to Celebrate David Bowie’s Life in New York City', 'kicker': 'Where to Go Now'}, 'keywords': [{'is_major': 'N', 'rank': '1', 'name': 'persons', 'value': 'Bowie, David'}, {'is_major': 'N', 'rank': '2', 'name': 'glocations', 'value': 'New York City'}, {'is_major': 'N', 'rank': '3', 'name': 'organizations', 'value': 'Carnegie Hall'}, {'is_major': 'N', 'rank': '4', 'name': 'subject', 'value': 'Music'}, {'is_major': 'N', 'rank': '5', 'name': 'subject', 'value': 'Theater'}, {'is_major': 'N', 'rank': '6', 'name': 'subject', 'value': 'Travel and Vacations'}], 'abstract': None, 'print_page': '4', 'slideshow_credits': None, 'multimedia': [{'width': 190, 'url': 'images/2016/01/31/travel/31wtg-bowie-washsquare/31wtg-bowie-washsquare-thumbWide.jpg', 'type': 'image', 'height': 126, 'subtype': 'wide', 'legacy': {'wide': 'images/2016/01/31/travel/31wtg-bowie-washsquare/31wtg-bowie-washsquare-thumbWide.jpg', 'wideheight': '126', 'widewidth': '190'}}, {'width': 600, 'url': 'images/2016/01/31/travel/31wtg-bowie-washsquare/31wtg-bowie-washsquare-articleLarge.jpg', 'type': 'image', 'height': 400, 'subtype': 'xlarge', 'legacy': {'xlarge': 'images/2016/01/31/travel/31wtg-bowie-washsquare/31wtg-bowie-washsquare-articleLarge.jpg', 'xlargewidth': '600', 'xlargeheight': '400'}}, {'width': 75, 'url': 'images/2016/01/31/travel/31wtg-bowie-washsquare/31wtg-bowie-washsquare-thumbStandard.jpg', 'type': 'image', 'height': 75, 'subtype': 'thumbnail', 'legacy': {'thumbnailwidth': '75', 'thumbnail': 'images/2016/01/31/travel/31wtg-bowie-washsquare/31wtg-bowie-washsquare-thumbStandard.jpg', 'thumbnailheight': '75'}}], 'pub_date': '2016-01-31T00:00:00Z', 'byline': {'person': [{'lastname': 'SABLICH', 'organization': '', 'rank': 1, 'role': 'reported', 'firstname': 'Justin'}], 'original': 'By JUSTIN SABLICH'}, 'web_url': 'http://www.nytimes.com/2016/01/31/travel/david-bowie-new-york-city.html', 'source': 'The New York Times', 'blog': [], 'document_type': 'article', 'type_of_material': 'News', 'word_count': '1938'}\n"
     ]
    }
   ],
   "source": [
    "archive_dict = {}\n",
    "for json_file in lambda_file(json_file_path):\n",
    "    with open(json_file) as json_data:\n",
    "        archive_dict.update(json.load(json_data))\n",
    "print(archive_dict)"
   ]
  }
 ],
 "metadata": {
  "anaconda-cloud": {},
  "kernelspec": {
   "display_name": "Python [conda root]",
   "language": "python",
   "name": "conda-root-py"
  },
  "language_info": {
   "codemirror_mode": {
    "name": "ipython",
    "version": 3
   },
   "file_extension": ".py",
   "mimetype": "text/x-python",
   "name": "python",
   "nbconvert_exporter": "python",
   "pygments_lexer": "ipython3",
   "version": "3.5.2"
  }
 },
 "nbformat": 4,
 "nbformat_minor": 1
}
