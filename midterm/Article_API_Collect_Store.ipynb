{
 "cells": [
  {
   "cell_type": "code",
   "execution_count": 12,
   "metadata": {
    "collapsed": false
   },
   "outputs": [
    {
     "name": "stdout",
     "output_type": "stream",
     "text": [
      "121\n"
     ]
    }
   ],
   "source": [
    "#collecting data from Article Search API\n",
    "import requests\n",
    "import os\n",
    "import json\n",
    "from requests.models import Response\n",
    "from time import sleep\n",
    "dir = '/Data/Article'\n",
    "auth_key =('7cef684da20b471faf5c47266f122516')\n",
    "#so that it loops from articlesearchpage0 and goes on till 120\n",
    "i='0'\n",
    "while True:\n",
    "    url = 'https://api.nytimes.com/svc/search/v2/articlesearch.json?page='+i+'&api-key='+auth_key\n",
    "    response=(requests.get(url))\n",
    "    data= response.json()\n",
    "    with open('/Users/karandutt/Data/Article/ArticleSearchpage'+i+'.json', 'w') as f: #write\n",
    "        json.dump(data, f)   \n",
    "        sleep(1) #use sleep so to avoid overwhelming the API\n",
    "    i = int(i) + 1\n",
    "    i = str(i)\n",
    "    if i == '121': #when data reaches 120.json stop\n",
    "        break\n",
    "print(i)"
   ]
  },
  {
   "cell_type": "code",
   "execution_count": 13,
   "metadata": {
    "collapsed": true
   },
   "outputs": [],
   "source": [
    "import os.path\n",
    "import glob\n",
    "import json\n",
    "\n",
    "pathname=\"Downloaded Data/Article Search Data\"\n",
    "newpath=\"Downloaded Data/Article Search Data Storage/\"\n",
    "\n",
    "uniqueids={}\n",
    "my_dict ={}\n",
    "\n",
    "for filename in glob.glob(os.path.join(pathname, '*.json')):\n",
    "    with open(filename) as f:\n",
    "        d = json.load(f)\n",
    "        if 'response' in d:\n",
    "            doc=d['response']['docs']\n",
    "\n",
    "            for i in range(0,1500000):\n",
    "                try:\n",
    "                    id = doc[i]['_id']\n",
    "                    result = []\n",
    "                    if id not in uniqueids:\n",
    "                        my_dict={}\n",
    "                        uniqueids[id]=1\n",
    "                        #print(id)\n",
    "                        my_dict['_id']=id\n",
    "                        my_dict['lead_paragraph']= doc[i]['lead_paragraph'] \n",
    "                        my_dict['section_name']=doc[i]['section_name']\n",
    "                        my_dict['pub_date']=doc[i]['pub_date']\n",
    "                        my_dict['type_of_material']=doc[i]['type_of_material']\n",
    "                        my_dict['document_type']=doc[i]['document_type']\n",
    "                        my_dict['headline']=doc[0]['headline']\n",
    "                        my_dict['source']=doc[i]['source']\n",
    "                        my_dict['snippet']=doc[i]['snippet']                      \n",
    "                        my_dict['web_url']=doc[i]['web_url']                       \n",
    "                        result.append(my_dict)                    \n",
    "                        with open(os.path.join(newpath+id+'.json'), 'w') as outfile:\n",
    "                            json.dump(result,outfile)\n",
    "                       \n",
    "                            \n",
    "                except(IndexError,KeyError):\n",
    "                    continue"
   ]
  },
  {
   "cell_type": "code",
   "execution_count": 17,
   "metadata": {
    "collapsed": false
   },
   "outputs": [],
   "source": [
    "import requests\n",
    "import os, json\n",
    "from requests.models import Response\n",
    "import time\n",
    "path=\"/Data/Archive Data\"\n",
    "auth=('7cef684da20b471faf5c47266f122516')\n",
    "url = 'https://api.nytimes.com/svc/archive/v1/2014/12.json?api-key='+auth\n",
    "response=(requests.get(url))\n",
    "data= response.json()\n",
    "with open('/Users/karandutt/Data/ArchiveDec2014.json', 'w') as f:\n",
    "    json.dump(data, f)"
   ]
  }
 ],
 "metadata": {
  "anaconda-cloud": {},
  "kernelspec": {
   "display_name": "Python [conda root]",
   "language": "python",
   "name": "conda-root-py"
  },
  "language_info": {
   "codemirror_mode": {
    "name": "ipython",
    "version": 3
   },
   "file_extension": ".py",
   "mimetype": "text/x-python",
   "name": "python",
   "nbconvert_exporter": "python",
   "pygments_lexer": "ipython3",
   "version": "3.5.2"
  }
 },
 "nbformat": 4,
 "nbformat_minor": 1
}
