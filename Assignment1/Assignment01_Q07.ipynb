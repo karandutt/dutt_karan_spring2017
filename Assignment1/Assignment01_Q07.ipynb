{
 "cells": [
  {
   "cell_type": "markdown",
   "metadata": {},
   "source": [
    "# Question 07\n",
    "- Use Name corpus, calculate the probability of a name being of a male or female base on the last character(s) of name."
   ]
  },
  {
   "cell_type": "code",
   "execution_count": 1,
   "metadata": {
    "collapsed": true
   },
   "outputs": [],
   "source": [
    "import nltk"
   ]
  },
  {
   "cell_type": "code",
   "execution_count": 2,
   "metadata": {
    "collapsed": false
   },
   "outputs": [
    {
     "data": {
      "text/plain": [
       "['female.txt', 'male.txt']"
      ]
     },
     "execution_count": 2,
     "metadata": {},
     "output_type": "execute_result"
    }
   ],
   "source": [
    "from nltk.corpus import names\n",
    "nltk.corpus.names.fileids()"
   ]
  },
  {
   "cell_type": "code",
   "execution_count": 21,
   "metadata": {
    "collapsed": false
   },
   "outputs": [
    {
     "name": "stdout",
     "output_type": "stream",
     "text": [
      "Probaility of men whose name starts with A: 1.609322974472808 %\n",
      "Probability of women whose name starts with A: 98.3906770255272 %\n",
      "\n",
      "Probaility of men whose name starts with B: 70.0 %\n",
      "Probability of women whose name starts with B: 30.0 %\n",
      "\n",
      "Probaility of men whose name starts with C: 100.0 %\n",
      "Probability of women whose name starts with C: 0.0 %\n",
      "\n",
      "Probaility of men whose name starts with D: 85.39325842696628 %\n",
      "Probability of women whose name starts with D: 14.606741573033707 %\n",
      "\n",
      "Probaility of men whose name starts with E: 24.63157894736842 %\n",
      "Probability of women whose name starts with E: 75.36842105263158 %\n",
      "\n",
      "Probaility of men whose name starts with F: 92.5925925925926 %\n",
      "Probability of women whose name starts with F: 7.4074074074074066 %\n",
      "\n",
      "Probaility of men whose name starts with G: 76.19047619047619 %\n",
      "Probability of women whose name starts with G: 23.809523809523807 %\n",
      "\n",
      "Probaility of men whose name starts with H: 46.96969696969697 %\n",
      "Probability of women whose name starts with H: 53.03030303030303 %\n",
      "\n",
      "Probaility of men whose name starts with I: 13.623978201634879 %\n",
      "Probability of women whose name starts with I: 86.37602179836512 %\n",
      "\n",
      "Probaility of men whose name starts with J: 75.0 %\n",
      "Probability of women whose name starts with J: 25.0 %\n",
      "\n",
      "Probaility of men whose name starts with K: 95.83333333333334 %\n",
      "Probability of women whose name starts with K: 4.166666666666666 %\n",
      "\n",
      "Probaility of men whose name starts with L: 51.09289617486339 %\n",
      "Probability of women whose name starts with L: 48.90710382513661 %\n",
      "\n",
      "Probaility of men whose name starts with M: 84.33734939759037 %\n",
      "Probability of women whose name starts with M: 15.66265060240964 %\n",
      "\n",
      "Probaility of men whose name starts with N: 55.32407407407407 %\n",
      "Probability of women whose name starts with N: 44.675925925925924 %\n",
      "\n",
      "Probaility of men whose name starts with O: 83.33333333333334 %\n",
      "Probability of women whose name starts with O: 16.666666666666664 %\n",
      "\n",
      "Probaility of men whose name starts with P: 90.0 %\n",
      "Probability of women whose name starts with P: 10.0 %\n",
      "\n",
      "Probaility of men whose name starts with Q: 0 %\n",
      "Probability of women whose name starts with Q: 0 %\n",
      "\n",
      "Probaility of men whose name starts with R: 80.16877637130801 %\n",
      "Probability of women whose name starts with R: 19.831223628691983 %\n",
      "\n",
      "Probaility of men whose name starts with S: 71.20743034055728 %\n",
      "Probability of women whose name starts with S: 28.792569659442723 %\n",
      "\n",
      "Probaility of men whose name starts with T: 70.6896551724138 %\n",
      "Probability of women whose name starts with T: 29.310344827586203 %\n",
      "\n",
      "Probaility of men whose name starts with U: 66.66666666666666 %\n",
      "Probability of women whose name starts with U: 33.33333333333333 %\n",
      "\n",
      "Probaility of men whose name starts with V: 88.88888888888889 %\n",
      "Probability of women whose name starts with V: 11.11111111111111 %\n",
      "\n",
      "Probaility of men whose name starts with W: 77.27272727272727 %\n",
      "Probability of women whose name starts with W: 22.727272727272727 %\n",
      "\n",
      "Probaility of men whose name starts with X: 50.0 %\n",
      "Probability of women whose name starts with X: 50.0 %\n",
      "\n",
      "Probaility of men whose name starts with Y: 41.86633039092055 %\n",
      "Probability of women whose name starts with Y: 58.13366960907944 %\n",
      "\n",
      "Probaility of men whose name starts with Z: 73.33333333333333 %\n",
      "Probability of women whose name starts with Z: 26.666666666666668 %\n",
      "\n"
     ]
    }
   ],
   "source": [
    "femalenames = nltk.corpus.names.words('female.txt') #get all the female names in female.txt file\n",
    "#print(femalenames)\n",
    "malenames = nltk.corpus.names.words('male.txt') #get all the male names in the male.txt file\n",
    "#print(malenames)\n",
    "all = [] # create an empty list to incorporate all the male and female names\n",
    "all.extend(femalenames) # extends the list, not append    \n",
    "all.extend(malenames)   # extends the list to form a single list of male and females, not append\n",
    "#print(all)\n",
    "#type(all)\n",
    "char = ['a', 'b','c','d','e','f','g','h','i','j','k','l','m','n','o','p','q','r','s','t','u','v','w','x','y','z']\n",
    "for each in char:\n",
    "    total  = 0       #intialize total number of males + females to zero\n",
    "    males = 0        #initalize males to zero\n",
    "    females = 0      #initialize females to zero\n",
    "    probmen = 0      #probability of men\n",
    "    probwomen = 0    #probability of women \n",
    "    for name in all:\n",
    "        if name.endswith(each):\n",
    "            total += 1\n",
    "    for name in malenames:\n",
    "        if name.endswith(each):\n",
    "            males += 1\n",
    "    for name in femalenames:\n",
    "        if name.endswith(each):\n",
    "            females += 1\n",
    "    if total > 0:\n",
    "        probmen = 100 * (males/total) # number of male names upon total multiply 100\n",
    "        probwomen = 100 * (females/total) # number of female names upon total multiply 100\n",
    "    print('Probaility of men whose name starts with ' + each.upper() + ': ' + str(probmen) + ' %')\n",
    "    print('Probability of women whose name starts with ' + each.upper() + ': ' + str(probwomen) + ' %' + '\\n')   \n",
    "    "
   ]
  }
 ],
 "metadata": {
  "kernelspec": {
   "display_name": "Python [conda root]",
   "language": "python",
   "name": "conda-root-py"
  },
  "language_info": {
   "codemirror_mode": {
    "name": "ipython",
    "version": 3
   },
   "file_extension": ".py",
   "mimetype": "text/x-python",
   "name": "python",
   "nbconvert_exporter": "python",
   "pygments_lexer": "ipython3",
   "version": "3.5.2"
  }
 },
 "nbformat": 4,
 "nbformat_minor": 1
}
