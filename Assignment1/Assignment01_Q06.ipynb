{
 "cells": [
  {
   "cell_type": "markdown",
   "metadata": {},
   "source": [
    "# Question 06\n",
    "\n",
    "- Under Inaugural Address package\n",
    "- For every president, find out how many unique words they used in speech. \n",
    "- We will just assume that President Bush means one person (technically it is incorrect but we will ignore it)\n"
   ]
  },
  {
   "cell_type": "code",
   "execution_count": 1,
   "metadata": {
    "collapsed": true
   },
   "outputs": [],
   "source": [
    "import nltk"
   ]
  },
  {
   "cell_type": "code",
   "execution_count": 2,
   "metadata": {
    "collapsed": false
   },
   "outputs": [
    {
     "data": {
      "text/plain": [
       "['1789-Washington.txt',\n",
       " '1793-Washington.txt',\n",
       " '1797-Adams.txt',\n",
       " '1801-Jefferson.txt',\n",
       " '1805-Jefferson.txt',\n",
       " '1809-Madison.txt',\n",
       " '1813-Madison.txt',\n",
       " '1817-Monroe.txt',\n",
       " '1821-Monroe.txt',\n",
       " '1825-Adams.txt',\n",
       " '1829-Jackson.txt',\n",
       " '1833-Jackson.txt',\n",
       " '1837-VanBuren.txt',\n",
       " '1841-Harrison.txt',\n",
       " '1845-Polk.txt',\n",
       " '1849-Taylor.txt',\n",
       " '1853-Pierce.txt',\n",
       " '1857-Buchanan.txt',\n",
       " '1861-Lincoln.txt',\n",
       " '1865-Lincoln.txt',\n",
       " '1869-Grant.txt',\n",
       " '1873-Grant.txt',\n",
       " '1877-Hayes.txt',\n",
       " '1881-Garfield.txt',\n",
       " '1885-Cleveland.txt',\n",
       " '1889-Harrison.txt',\n",
       " '1893-Cleveland.txt',\n",
       " '1897-McKinley.txt',\n",
       " '1901-McKinley.txt',\n",
       " '1905-Roosevelt.txt',\n",
       " '1909-Taft.txt',\n",
       " '1913-Wilson.txt',\n",
       " '1917-Wilson.txt',\n",
       " '1921-Harding.txt',\n",
       " '1925-Coolidge.txt',\n",
       " '1929-Hoover.txt',\n",
       " '1933-Roosevelt.txt',\n",
       " '1937-Roosevelt.txt',\n",
       " '1941-Roosevelt.txt',\n",
       " '1945-Roosevelt.txt',\n",
       " '1949-Truman.txt',\n",
       " '1953-Eisenhower.txt',\n",
       " '1957-Eisenhower.txt',\n",
       " '1961-Kennedy.txt',\n",
       " '1965-Johnson.txt',\n",
       " '1969-Nixon.txt',\n",
       " '1973-Nixon.txt',\n",
       " '1977-Carter.txt',\n",
       " '1981-Reagan.txt',\n",
       " '1985-Reagan.txt',\n",
       " '1989-Bush.txt',\n",
       " '1993-Clinton.txt',\n",
       " '1997-Clinton.txt',\n",
       " '2001-Bush.txt',\n",
       " '2005-Bush.txt',\n",
       " '2009-Obama.txt']"
      ]
     },
     "execution_count": 2,
     "metadata": {},
     "output_type": "execute_result"
    }
   ],
   "source": [
    "# inaugural package\n",
    "from nltk.corpus import inaugural \n",
    "nltk.corpus.inaugural.fileids()"
   ]
  },
  {
   "cell_type": "code",
   "execution_count": 30,
   "metadata": {
    "collapsed": false
   },
   "outputs": [
    {
     "name": "stdout",
     "output_type": "stream",
     "text": [
      " Unique words in 1789-Washington.txt are : 628\n",
      " Unique words in 1793-Washington.txt are : 96\n",
      " Unique words in 1797-Adams.txt are : 828\n",
      " Unique words in 1801-Jefferson.txt are : 717\n",
      " Unique words in 1805-Jefferson.txt are : 806\n",
      " Unique words in 1809-Madison.txt are : 537\n",
      " Unique words in 1813-Madison.txt are : 542\n",
      " Unique words in 1817-Monroe.txt are : 1041\n",
      " Unique words in 1821-Monroe.txt are : 1265\n",
      " Unique words in 1825-Adams.txt are : 1007\n",
      " Unique words in 1829-Jackson.txt are : 517\n",
      " Unique words in 1833-Jackson.txt are : 502\n",
      " Unique words in 1837-VanBuren.txt are : 1318\n",
      " Unique words in 1841-Harrison.txt are : 1893\n",
      " Unique words in 1845-Polk.txt are : 1333\n",
      " Unique words in 1849-Taylor.txt are : 499\n",
      " Unique words in 1853-Pierce.txt are : 1168\n",
      " Unique words in 1857-Buchanan.txt are : 948\n",
      " Unique words in 1861-Lincoln.txt are : 1078\n",
      " Unique words in 1865-Lincoln.txt are : 363\n",
      " Unique words in 1869-Grant.txt are : 489\n",
      " Unique words in 1873-Grant.txt are : 553\n",
      " Unique words in 1877-Hayes.txt are : 832\n",
      " Unique words in 1881-Garfield.txt are : 1022\n",
      " Unique words in 1885-Cleveland.txt are : 676\n",
      " Unique words in 1889-Harrison.txt are : 1358\n",
      " Unique words in 1893-Cleveland.txt are : 820\n",
      " Unique words in 1897-McKinley.txt are : 1239\n",
      " Unique words in 1901-McKinley.txt are : 860\n",
      " Unique words in 1905-Roosevelt.txt are : 405\n",
      " Unique words in 1909-Taft.txt are : 1439\n",
      " Unique words in 1913-Wilson.txt are : 661\n",
      " Unique words in 1917-Wilson.txt are : 549\n",
      " Unique words in 1921-Harding.txt are : 1170\n",
      " Unique words in 1925-Coolidge.txt are : 1221\n",
      " Unique words in 1929-Hoover.txt are : 1087\n",
      " Unique words in 1933-Roosevelt.txt are : 746\n",
      " Unique words in 1937-Roosevelt.txt are : 732\n",
      " Unique words in 1941-Roosevelt.txt are : 527\n",
      " Unique words in 1945-Roosevelt.txt are : 280\n",
      " Unique words in 1949-Truman.txt are : 781\n",
      " Unique words in 1953-Eisenhower.txt are : 899\n",
      " Unique words in 1957-Eisenhower.txt are : 622\n",
      " Unique words in 1961-Kennedy.txt are : 570\n",
      " Unique words in 1965-Johnson.txt are : 571\n",
      " Unique words in 1969-Nixon.txt are : 743\n",
      " Unique words in 1973-Nixon.txt are : 545\n",
      " Unique words in 1977-Carter.txt are : 529\n",
      " Unique words in 1981-Reagan.txt are : 907\n",
      " Unique words in 1985-Reagan.txt are : 924\n",
      " Unique words in 1989-Bush.txt are : 793\n",
      " Unique words in 1993-Clinton.txt are : 643\n",
      " Unique words in 1997-Clinton.txt are : 774\n",
      " Unique words in 2001-Bush.txt are : 622\n",
      " Unique words in 2005-Bush.txt are : 783\n",
      " Unique words in 2009-Obama.txt are : 938\n"
     ]
    }
   ],
   "source": [
    "#for every president, find out how many unique words they used in speech.\n",
    "uniquewords = 0 #initialize words to zero\n",
    "for speech in nltk.corpus.inaugural.fileids():\n",
    "    text = nltk.corpus.inaugural.words(speech) #get the speech in a list\n",
    "    #print(text)\n",
    "    uniquewords = set(text) #set removes duplicates\n",
    "    print(\" Unique words in \" + speech +\" are : \" + str(len(uniquewords))) #convert int into str explicitly to print"
   ]
  }
 ],
 "metadata": {
  "anaconda-cloud": {},
  "kernelspec": {
   "display_name": "Python [conda root]",
   "language": "python",
   "name": "conda-root-py"
  },
  "language_info": {
   "codemirror_mode": {
    "name": "ipython",
    "version": 3
   },
   "file_extension": ".py",
   "mimetype": "text/x-python",
   "name": "python",
   "nbconvert_exporter": "python",
   "pygments_lexer": "ipython3",
   "version": "3.5.2"
  }
 },
 "nbformat": 4,
 "nbformat_minor": 1
}
