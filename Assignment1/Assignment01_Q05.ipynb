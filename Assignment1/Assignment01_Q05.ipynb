{
 "cells": [
  {
   "cell_type": "markdown",
   "metadata": {},
   "source": [
    "# Question 05\n",
    "- Use Gutenberg and Web_text data. Find out what are the top 5 words that Shakespeare used but we do not use in currently.\n",
    "- Take top 50 words from Shakespeare (all 3 books) and top 50 from Web_text (all the records).\n",
    "- Remove punctuation and stop words.\n",
    "- Remove the words we still use today, and get the unused list. Show the top 5 elements. \n"
   ]
  },
  {
   "cell_type": "code",
   "execution_count": 1,
   "metadata": {
    "collapsed": true
   },
   "outputs": [],
   "source": [
    "import nltk"
   ]
  },
  {
   "cell_type": "code",
   "execution_count": 2,
   "metadata": {
    "collapsed": true
   },
   "outputs": [],
   "source": [
    "from nltk.corpus import gutenberg\n",
    "from nltk.corpus import webtext\n",
    "from nltk.corpus import stopwords\n",
    "from operator import itemgetter\n",
    "from collections import OrderedDict"
   ]
  },
  {
   "cell_type": "code",
   "execution_count": 33,
   "metadata": {
    "collapsed": false
   },
   "outputs": [
    {
     "name": "stdout",
     "output_type": "stream",
     "text": [
      "['i', 'me', 'my', 'myself', 'we', 'our', 'ours', 'ourselves', 'you', 'your', 'yours', 'yourself', 'yourselves', 'he', 'him', 'his', 'himself', 'she', 'her', 'hers', 'herself', 'it', 'its', 'itself', 'they', 'them', 'their', 'theirs', 'themselves', 'what', 'which', 'who', 'whom', 'this', 'that', 'these', 'those', 'am', 'is', 'are', 'was', 'were', 'be', 'been', 'being', 'have', 'has', 'had', 'having', 'do', 'does', 'did', 'doing', 'a', 'an', 'the', 'and', 'but', 'if', 'or', 'because', 'as', 'until', 'while', 'of', 'at', 'by', 'for', 'with', 'about', 'against', 'between', 'into', 'through', 'during', 'before', 'after', 'above', 'below', 'to', 'from', 'up', 'down', 'in', 'out', 'on', 'off', 'over', 'under', 'again', 'further', 'then', 'once', 'here', 'there', 'when', 'where', 'why', 'how', 'all', 'any', 'both', 'each', 'few', 'more', 'most', 'other', 'some', 'such', 'no', 'nor', 'not', 'only', 'own', 'same', 'so', 'than', 'too', 'very', 's', 't', 'can', 'will', 'just', 'don', 'should', 'now', 'd', 'll', 'm', 'o', 're', 've', 'y', 'ain', 'aren', 'couldn', 'didn', 'doesn', 'hadn', 'hasn', 'haven', 'isn', 'ma', 'mightn', 'mustn', 'needn', 'shan', 'shouldn', 'wasn', 'weren', 'won', 'wouldn']\n"
     ]
    }
   ],
   "source": [
    "guten = nltk.corpus.gutenberg.fileids()\n",
    "#print(gutenberg)\n",
    "webtxt = nltk.corpus.webtext.fileids()\n",
    "#print(webtxt)\n",
    "stopwrd = stopwords.words('english')\n",
    "#print(stopwrd)"
   ]
  },
  {
   "cell_type": "code",
   "execution_count": 35,
   "metadata": {
    "collapsed": false
   },
   "outputs": [
    {
     "name": "stdout",
     "output_type": "stream",
     "text": [
      "OrderedDict([('thou', 256), ('shall', 259), ('Lord', 293), ('Ham', 337), ('haue', 406)])\n"
     ]
    }
   ],
   "source": [
    "#top 5 words that Shakespeare used but we do not use in currently\n",
    "shakespeare = [] #create a new empty list\n",
    "for x in guten: \n",
    "    if x.startswith('shakespeare'): #there are 3 txt files of shakespeare so we use startswith to consider all 3 files\n",
    "        for word in nltk.corpus.gutenberg.words(x): #iterates in all 3 txt files\n",
    "            if word.isalpha(): #checks whether the string contains alphabetical characters only\n",
    "                if word.lower() not in stopwrd: #those stopwords which are currently not used \n",
    "                    shakespeare.append(word) #append the words to the list\n",
    "                    \n",
    "di = {} #create a new empty dictionary\n",
    "for x in shakespeare: \n",
    "    if x in di:\n",
    "        di[x] = di[x] + 1\n",
    "    else:\n",
    "        di[x] = 1\n",
    "        \n",
    "d = OrderedDict(sorted(di.items(), key = itemgetter(1))[-5:]) # -5 is used in conjunction to reverse = True, returns most used\n",
    "print(d) # print the words\n"
   ]
  },
  {
   "cell_type": "code",
   "execution_count": 27,
   "metadata": {
    "collapsed": false
   },
   "outputs": [
    {
     "name": "stdout",
     "output_type": "stream",
     "text": [
      "['Tragedie', 'Julius', 'Caesar', 'William', 'Shakespeare', 'Actus', 'Primus', 'Scoena', 'Prima', 'Enter', 'Flauius', 'Murellus', 'certaine', 'Commoners', 'ouer', 'Stage', 'Flauius', 'Hence', 'home', 'idle', 'Creatures', 'get', 'home', 'Holiday', 'know', 'Mechanicall', 'ought', 'walke', 'Vpon', 'labouring', 'day', 'without', 'signe', 'Profession', 'Speake', 'Trade', 'art', 'thou', 'Car', 'Sir', 'Carpenter', 'Mur', 'thy', 'Leather', 'Apron', 'thy', 'Rule', 'dost', 'thou', 'thy']\n"
     ]
    }
   ],
   "source": [
    "#top 50 words from shakespeare\n",
    "top_50 = shakespeare[:50] #using slice operator\n",
    "print(top_50) #print top 50 "
   ]
  },
  {
   "cell_type": "code",
   "execution_count": 26,
   "metadata": {
    "collapsed": false
   },
   "outputs": [
    {
     "name": "stdout",
     "output_type": "stream",
     "text": [
      "['Don', 't', 'that', 'to', 'should', 'When', 'in', 'should', 'a', 'when', 'only', 'is', 'to', 'So', 'should', 'be', 'a', 'or', 'the', 'for', 's', 'has', 'when', 'is', 'not', 'and', 'for', 'to', 'and', 'then', 'it', 'not', 'doesn', 't', 'at', 'of', 'for', 'is', 'a', 'and', 'for', 'Can', 't', 'while', 'is', 'or', 'not', 'when', 'all', 'are']\n"
     ]
    }
   ],
   "source": [
    "#top 50 words in webtext\n",
    "webwords = []\n",
    "for y in webtxt:\n",
    "    if y in webtxt:\n",
    "        for word in webtext.words(y):\n",
    "            if word.isalpha(): #checks whether the string contains alphabetical characters only\n",
    "                if word.lower() in stopwrd: #lowercase and checks if word in stopwrd\n",
    "                    webwords.append(word) #append in webwords list\n",
    "print(webwords[:50]) #top 50 words using the slice operator"
   ]
  }
 ],
 "metadata": {
  "kernelspec": {
   "display_name": "Python [conda root]",
   "language": "python",
   "name": "conda-root-py"
  },
  "language_info": {
   "codemirror_mode": {
    "name": "ipython",
    "version": 3
   },
   "file_extension": ".py",
   "mimetype": "text/x-python",
   "name": "python",
   "nbconvert_exporter": "python",
   "pygments_lexer": "ipython3",
   "version": "3.5.2"
  }
 },
 "nbformat": 4,
 "nbformat_minor": 1
}
