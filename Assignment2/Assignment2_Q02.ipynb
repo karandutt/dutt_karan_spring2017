{
 "cells": [
  {
   "cell_type": "markdown",
   "metadata": {},
   "source": [
    "# Question 02\n",
    "- PART 1 : There are three categories of json files in this folder. They are identified by the key called “term” in each of the json file. Create a folder structure to read all these json files and store them into these separate folders. You are expected to create a hierarchy of folder structure.\n",
    "- PART 2 : Read only the json files which contain the key called “restaurants” Each (or most of the json files) contain a key called “open” which contains the details of the operation (timings) of the restaurants. For each json file, read the timings of the restaurants. Data of the operation timings of the restaurants is present for each day of the week. I want you to extract each of this data and write it in an excel sheet."
   ]
  },
  {
   "cell_type": "code",
   "execution_count": 34,
   "metadata": {
    "collapsed": false
   },
   "outputs": [],
   "source": [
    "import glob\n",
    "import json\n",
    "import sys\n",
    "import os\n",
    "import csv\n",
    "from shutil import copyfile"
   ]
  },
  {
   "cell_type": "code",
   "execution_count": 35,
   "metadata": {
    "collapsed": true
   },
   "outputs": [],
   "source": [
    "# import all the json files and store it in datafiles\n",
    "datafiles = glob.glob('Data/*.json')"
   ]
  },
  {
   "cell_type": "code",
   "execution_count": 41,
   "metadata": {
    "collapsed": true
   },
   "outputs": [],
   "source": [
    "#to create a hierarchy structure\n",
    "for restaurants in datafiles: \n",
    "    text = json.load(open(restaurants))\n",
    "    key = text['term'] \n",
    "    country = text['location']['country'] \n",
    "    state = text['location']['state']\n",
    "    city = text['location']['city']\n",
    "    category = text['categories']\n",
    "    for each in category: #there are multiple categories so we can split it accordingly in subfolders\n",
    "        directory = 'DataProcessed_Karan/%s/%s/%s/%s/%s' %(key,country,state,city,each['title']) # dataprocessed_karan -> US -> CA -> Cupertino -> Cinema \n",
    "        if not os.path.exists(directory):os.makedirs(directory) #if directory does not exist, mkdir which means make a new directory\n",
    "        copyfile(restaurant, '%s/%s' % (directory, restaurant.split('/')[-1]))"
   ]
  },
  {
   "cell_type": "code",
   "execution_count": 37,
   "metadata": {
    "collapsed": true
   },
   "outputs": [],
   "source": [
    "#keep filling in data in the folders according to what they are - either attractions or hotels or restaurants\n",
    "attractions = []\n",
    "hotels = []\n",
    "restaurants = []\n",
    "for each in datafiles:\n",
    "    text = json.load(open(each))\n",
    "    key = text['term']\n",
    "    if key == 'attractions':\n",
    "        attractions.append(each)\n",
    "    if key == 'hotels':\n",
    "        hotels.append(each)\n",
    "    if key == 'restaurants':\n",
    "        restaurants.append(each)"
   ]
  },
  {
   "cell_type": "code",
   "execution_count": 38,
   "metadata": {
    "collapsed": true
   },
   "outputs": [],
   "source": [
    "#define function to split the time, took help from stack overflow \n",
    "def Timesplit(time):\n",
    "    minuteSplit = list(time)[-2:] #by using the slice operator \n",
    "    hourSplit = list(time)[0:2]\n",
    "    minute = minuteSplit[0] + minuteSplit[1] # thus the minute will be say 11 0th and 1st position \n",
    "    hour = hourSplit[0] + hourSplit[1] # thus the hour will be 25 0th and 1st position\n",
    "    return [hour, minute] # return the hour minute when the function is called"
   ]
  },
  {
   "cell_type": "code",
   "execution_count": 44,
   "metadata": {
    "collapsed": true
   },
   "outputs": [],
   "source": [
    "restaurantData = []\n",
    "for each in restaurants:\n",
    "    text = json.load(open(each)) # took some help to loop around \n",
    "    if 'hours' in text.keys():  #check if restaurant has hours of operation\n",
    "        name = text['name']\n",
    "        country = text['location']['country']\n",
    "        city = text['location']['city']\n",
    "        times = text['hours'][-1]['open']\n",
    "        #cycle through each day to retrieve hours of operation\n",
    "        for now in times:\n",
    "            day = now['day']\n",
    "            [startHour, startMinute] = Timesplit(now['start']) # call the timesplit function and split the time into hrs and mins\n",
    "            [endHour, endMinute] = Timesplit(now['end']) #same as above\n",
    "            restData.append([name,city,country,day,startHour,startMinute,endHour,startMinute]) #append data in this format so that the csv folder shows data in the format"
   ]
  },
  {
   "cell_type": "code",
   "execution_count": 46,
   "metadata": {
    "collapsed": false
   },
   "outputs": [],
   "source": [
    "#used the same approach as in question 1\n",
    "with open('restaurants.csv', 'w', newline='') as restaurant:\n",
    "    writer = csv.writer(restaurant, delimiter=',')\n",
    "    #data will be shown with the following rows\n",
    "    writer.writerow([\"Restaurant\", \"City\", \"Code\", \"Day of the week\", \"Start time : Hour\", \"Start time: Minute\", \"End Time: Hour\", \"End Time: Minute\"])\n",
    "    writer.writerows(restaurantData) #write all the data to the list and show"
   ]
  }
 ],
 "metadata": {
  "kernelspec": {
   "display_name": "Python [conda root]",
   "language": "python",
   "name": "conda-root-py"
  },
  "language_info": {
   "codemirror_mode": {
    "name": "ipython",
    "version": 3
   },
   "file_extension": ".py",
   "mimetype": "text/x-python",
   "name": "python",
   "nbconvert_exporter": "python",
   "pygments_lexer": "ipython3",
   "version": "3.5.2"
  }
 },
 "nbformat": 4,
 "nbformat_minor": 1
}
